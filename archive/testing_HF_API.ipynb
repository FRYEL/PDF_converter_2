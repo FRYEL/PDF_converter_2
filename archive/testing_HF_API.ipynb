{
 "cells": [
  {
   "cell_type": "code",
   "id": "initial_id",
   "metadata": {
    "collapsed": true,
    "ExecuteTime": {
     "end_time": "2025-01-25T00:01:57.188286Z",
     "start_time": "2025-01-25T00:01:57.183800Z"
    }
   },
   "source": [
    "import requests\n",
    "from dotenv import load_dotenv\n",
    "import os\n",
    "from transformers import BartTokenizer, AutoTokenizer\n"
   ],
   "outputs": [],
   "execution_count": 82
  },
  {
   "metadata": {
    "ExecuteTime": {
     "end_time": "2025-01-25T00:01:58.208271Z",
     "start_time": "2025-01-25T00:01:58.202812Z"
    }
   },
   "cell_type": "code",
   "source": "load_dotenv()",
   "id": "d76ab5a250e5841",
   "outputs": [
    {
     "data": {
      "text/plain": [
       "True"
      ]
     },
     "execution_count": 83,
     "metadata": {},
     "output_type": "execute_result"
    }
   ],
   "execution_count": 83
  },
  {
   "metadata": {
    "ExecuteTime": {
     "end_time": "2025-01-25T00:02:03.394768Z",
     "start_time": "2025-01-25T00:02:02.631723Z"
    }
   },
   "cell_type": "code",
   "source": [
    "HF_TOKEN = os.getenv(\"HUGGING_FACE_API_TOKEN\")\n",
    "#API_URL = \"https://api-inference.huggingface.co/models/sshleifer/distilbart-cnn-12-6\"\n",
    "\n",
    "API_URL = \"https://api-inference.huggingface.co/models/facebook/bart-large-cnn\"\n",
    "tokenizer = BartTokenizer.from_pretrained(\"facebook/bart-large-cnn\")\n",
    "#tokenizer = AutoTokenizer.from_pretrained(\"sshleifer/distilbart-cnn-12-6\")\n"
   ],
   "id": "1928e5a0250bd001",
   "outputs": [],
   "execution_count": 84
  },
  {
   "metadata": {
    "ExecuteTime": {
     "end_time": "2025-01-25T00:02:04.971910Z",
     "start_time": "2025-01-25T00:02:04.966720Z"
    }
   },
   "cell_type": "code",
   "source": [
    "def chunk_text(text, max_tokens):\n",
    "    tokens = tokenizer(text, truncation=False, return_tensors=\"pt\")['input_ids'][0]\n",
    "    for i in range(0, len(tokens), max_tokens):\n",
    "        yield tokenizer.decode(tokens[i:i + max_tokens], skip_special_tokens=True)"
   ],
   "id": "ba870972457bb554",
   "outputs": [],
   "execution_count": 85
  },
  {
   "metadata": {
    "ExecuteTime": {
     "end_time": "2025-01-25T00:02:05.884728Z",
     "start_time": "2025-01-25T00:02:05.881048Z"
    }
   },
   "cell_type": "code",
   "source": [
    "def query(payload):\n",
    "    headers = {\"Authorization\": f\"Bearer {HF_TOKEN}\"}\n",
    "    response = requests.post(API_URL, headers=headers, json=payload)\n",
    "\n",
    "    return response.json()"
   ],
   "id": "aad906ab278df79a",
   "outputs": [],
   "execution_count": 86
  },
  {
   "metadata": {
    "ExecuteTime": {
     "end_time": "2025-01-25T00:02:08.204031Z",
     "start_time": "2025-01-25T00:02:08.198329Z"
    }
   },
   "cell_type": "code",
   "source": "long_text = \"Durchführung einer umfassenden Kosinus-Ähnlichkeitsanalyse untersucht dieser Artikel die Abstimmungsverhalten von Bundestagsabgeordneten (MdBs) über vier Legislaturperioden in der deutschen politischen Geschichte. Der Schwerpunkt liegt auf Kabinett I unter Willy Brandt (SPD & FDP), Kabinett II unter Helmut Kohl (CDU & FDP), sowie Kabinett I und IV unter Angela Merkel (CDU & SPD). Das Hauptziel besteht darin, die komplexen Dynamiken politischer Allianzen zu entschlüsseln. Die Methodik umfasst die Berechnung der Kosinus-Ähnlichkeit für jedes MdB-Paar basierend auf ihren gemeinsamen Abstimmungen. Die zugrunde liegende Hypothese besagt, dass Regierungskoalitionswechsel die Muster von Kooperation und Opposition unter den MdBs signifikant beeinflussen. Um die Analyse effizienter zu gestalten und das Wesentliche der Abstimmungsverhalten der MdBs zu erfassen, wurde der Datensatz auf die ersten und letzten drei Monate jeder Legislaturperiode reduziert. Dieser fokussierte Ansatz destilliert die Kerndynamiken effizient, während die Komplexität gemindert wird. Durch die Konzentration auf die Anfangs- und Endphasen, die durch bedeutende politische Debatten und gesetzgeberische Entscheidungen geprägt sind, wird ein repräsentatives Ergebnis der Analyse gewährleistet. Diese gezielte Untersuchung ermöglicht es, subtile Veränderungen und Ausrichtungen in den Abstimmungsmustern zu identifizieren, was zu einem umfassenden Verständnis der breiteren Legislaturperioden beiträgt. Die Ergebnisse unterstreichen das fein abgestimmte Zusammenspiel zwischen politischen Zugehörigkeiten und politischer Ausrichtung und liefern wertvolle Einblicke in die dynamische Natur politischer Allianzen im Deutschen Bundestag. Besonders hervorzuheben ist eine aufschlussreiche Beobachtung: Mitglieder der Freien Demokratischen Partei (FDP) zeigten eine erhöhte Abstimmungsähnlichkeit mit der Christlich Demokratischen Union (CDU), wenn beide Parteien Teil derselben Regierungskoalition waren. Diese Beobachtung stützt die zentrale Hypothese, dass Regierungskoalitionswechsel tatsächlich erheblichen Einfluss auf die Kooperations- und Divergenzmuster unter den MdBs haben. Die umfassende Kosinus-Ähnlichkeitsanalyse der Abstimmungsmuster von Bundestagsabgeordneten über die genannten historischen Perioden unterstützt die Annahme, dass politische Allianzen ihre kooperativen Dynamiken maßgeblich prägen. Durch die detaillierte Untersuchung spezifischer Kabinette unter Führung von Schlüsselpersönlichkeiten wie Willy Brandt, Helmut Kohl und Angela Merkel beleuchtet dieser Artikel nicht nur die breite Entwicklung politischer Zugehörigkeiten, sondern wirft auch ein Licht auf die zeitlichen Dynamiken innerhalb jeder Legislaturperiode. Abschließend bietet dieser Artikel eine wertvolle Untersuchung des Zusammenspiels zwischen politischen Allianzen und Abstimmungsmustern im Deutschen Bundestag. Er liefert Einsichten, die unser Verständnis der dynamischen Natur politischer Prozesse vertiefen. Die beobachteten Muster validieren nicht nur die ursprüngliche Hypothese, sondern präsentieren auch eine überzeugende Erzählung darüber, wie Regierungskoalitionswechsel die Kooperationslandschaft unter MdBs in verschiedenen Legislaturperioden der deutschen politischen Geschichte prägen.\"",
   "id": "54e155fdb98385e7",
   "outputs": [],
   "execution_count": 87
  },
  {
   "metadata": {
    "ExecuteTime": {
     "end_time": "2025-01-25T00:02:09.543081Z",
     "start_time": "2025-01-25T00:02:09.528981Z"
    }
   },
   "cell_type": "code",
   "source": "chunks = list(chunk_text(long_text, max_tokens=900))  # Adjust max_tokens if necessary",
   "id": "6c7241276e2da7ad",
   "outputs": [
    {
     "name": "stderr",
     "output_type": "stream",
     "text": [
      "Token indices sequence length is longer than the specified maximum sequence length for this model (1169 > 1024). Running this sequence through the model will result in indexing errors\n"
     ]
    }
   ],
   "execution_count": 88
  },
  {
   "metadata": {
    "ExecuteTime": {
     "end_time": "2025-01-25T00:04:01.629487Z",
     "start_time": "2025-01-25T00:02:20.745721Z"
    }
   },
   "cell_type": "code",
   "source": [
    "\n",
    "results = []\n",
    "for i, chunk in enumerate(chunks):\n",
    "    print(f\"Processing chunk {i + 1}/{len(chunks)}...\")\n",
    "    payload = {\"inputs\": chunk,\n",
    "               \"parameters\": {\n",
    "                   \"truncation\": True,\n",
    "                   \"max_length\": 1024  # Adjust based on the model's limit\n",
    "               }}\n",
    "    result = query(payload)\n",
    "    results.append(result)"
   ],
   "id": "edf1cfc5ff232c44",
   "outputs": [
    {
     "name": "stdout",
     "output_type": "stream",
     "text": [
      "Processing chunk 1/2...\n",
      "Processing chunk 2/2...\n"
     ]
    }
   ],
   "execution_count": 89
  },
  {
   "metadata": {
    "ExecuteTime": {
     "end_time": "2025-01-25T00:04:09.852154Z",
     "start_time": "2025-01-25T00:04:09.846996Z"
    }
   },
   "cell_type": "code",
   "source": "results",
   "id": "344e74bcd2268c9b",
   "outputs": [
    {
     "data": {
      "text/plain": [
       "[{'error': 'Model too busy, unable to get response in less than 60 second(s)'},\n",
       " {'error': 'Internal Server Error'}]"
      ]
     },
     "execution_count": 91,
     "metadata": {},
     "output_type": "execute_result"
    }
   ],
   "execution_count": 91
  },
  {
   "metadata": {
    "ExecuteTime": {
     "end_time": "2025-01-24T23:17:01.099348Z",
     "start_time": "2025-01-24T23:17:01.093796Z"
    }
   },
   "cell_type": "code",
   "source": [
    "combined_summary = \" \".join(\n",
    "    item[\"summary_text\"]\n",
    "    for result in results  # Iterate over the outer list\n",
    "    for item in result  # Iterate over the inner lists\n",
    "    if \"summary_text\" in item  # Check if 'summary_text' exists\n",
    ")\n",
    "combined_summary"
   ],
   "id": "127dc3e186d60a0a",
   "outputs": [
    {
     "data": {
      "text/plain": [
       "'Durchführung einer umfassenden Kosinus-Ähnlichkeitsanalyse untersucht dieser Artikel die Abstimmungsverhalten von Bundestagsabgeordneten. Das Hauptziel besteht darin, die komplexen Dynamiken politischer Allianzen zu entschlüsseln. Artikel beleuchtet nicht nur die breite Entwicklung politischer Zugehörigkeiten, sondern ein Licht auf die zeitlichen Dynamiken innerhalb jeder Legislaturperiode. Er liefert Einsichten, die unser Verständnis der dynamischen Natur politischer Prozesse vertiefen.'"
      ]
     },
     "execution_count": 59,
     "metadata": {},
     "output_type": "execute_result"
    }
   ],
   "execution_count": 59
  },
  {
   "metadata": {
    "ExecuteTime": {
     "end_time": "2025-01-24T23:16:09.247761Z",
     "start_time": "2025-01-24T23:16:09.242691Z"
    }
   },
   "cell_type": "code",
   "source": "combined_summary",
   "id": "cf4ef94cd88b180a",
   "outputs": [
    {
     "data": {
      "text/plain": [
       "''"
      ]
     },
     "execution_count": 57,
     "metadata": {},
     "output_type": "execute_result"
    }
   ],
   "execution_count": 57
  },
  {
   "metadata": {
    "ExecuteTime": {
     "end_time": "2025-01-25T00:33:10.509073Z",
     "start_time": "2025-01-25T00:33:10.504475Z"
    }
   },
   "cell_type": "code",
   "source": [
    "import json\n",
    "\n",
    "json_object = '{\"key1\": \"value1\", \"key2\": \"value2\", \"key3\": \"value3\"}'\n",
    "parsed_object = json.loads(json_object)  \n",
    "\n",
    "second_key = list(parsed_object.keys())[1]\n",
    "second_value = parsed_object[second_key]\n",
    "print(second_value)"
   ],
   "id": "d47e71e7b8305e11",
   "outputs": [
    {
     "name": "stdout",
     "output_type": "stream",
     "text": [
      "value2\n"
     ]
    }
   ],
   "execution_count": 100
  }
 ],
 "metadata": {
  "kernelspec": {
   "display_name": "Python 3",
   "language": "python",
   "name": "python3"
  },
  "language_info": {
   "codemirror_mode": {
    "name": "ipython",
    "version": 2
   },
   "file_extension": ".py",
   "mimetype": "text/x-python",
   "name": "python",
   "nbconvert_exporter": "python",
   "pygments_lexer": "ipython2",
   "version": "2.7.6"
  }
 },
 "nbformat": 4,
 "nbformat_minor": 5
}

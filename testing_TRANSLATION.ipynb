{
 "cells": [
  {
   "cell_type": "code",
   "id": "initial_id",
   "metadata": {
    "collapsed": true,
    "ExecuteTime": {
     "end_time": "2025-01-26T14:48:47.838696Z",
     "start_time": "2025-01-26T14:48:47.834975Z"
    }
   },
   "source": [
    "from dotenv import load_dotenv\n",
    "from functions.ml_api_utils import chunk_text_by_tokens"
   ],
   "outputs": [],
   "execution_count": 29
  },
  {
   "metadata": {
    "ExecuteTime": {
     "end_time": "2025-01-26T14:48:48.356438Z",
     "start_time": "2025-01-26T14:48:48.350879Z"
    }
   },
   "cell_type": "code",
   "source": "load_dotenv()",
   "id": "d76ab5a250e5841",
   "outputs": [
    {
     "data": {
      "text/plain": [
       "True"
      ]
     },
     "execution_count": 30,
     "metadata": {},
     "output_type": "execute_result"
    }
   ],
   "execution_count": 30
  },
  {
   "metadata": {
    "ExecuteTime": {
     "end_time": "2025-01-26T14:48:48.927544Z",
     "start_time": "2025-01-26T14:48:48.922886Z"
    }
   },
   "cell_type": "code",
   "source": [
    "def translate_text(text, target_lang):\n",
    "    translator = GoogleTranslator(source='auto', target=target_lang.lower())\n",
    "    translated_text = translator.translate(text)\n",
    "    return translated_text"
   ],
   "id": "ad0f343b38089f14",
   "outputs": [],
   "execution_count": 31
  },
  {
   "metadata": {
    "ExecuteTime": {
     "end_time": "2025-01-26T14:48:49.374637Z",
     "start_time": "2025-01-26T14:48:49.365587Z"
    }
   },
   "cell_type": "code",
   "source": "input_text= \"Mapping Political Alliances: Cosine Similarity Analysis of Bundestag MPs’ Voting Trends Furkan Yel Faculty of Economy and Health Baden Wuerttemberg Cooperative State University Stuttgart,  November 18, 2023 Abstract Employing a comprehensive cosine similarity analysis, this paper examines the voting patterns of Bundestag Members of Parliament (MPs) across four legislature periods in German political history. The focus is on Cabinet I under Willy Brandt (SPD & FDP), Cabinet II under Helmut Kohl (CDU & FDP), Cabinet I and IV under Angela Merkel (CDU & SPD), with the primary aim of unraveling the intricate dynamics of political alliances. The methodology involves calculating the cosine similarity for each pair of MPs based on their common votes and the overarching hypothesis posits that shifts in government coalition significantly shape cooperation and opposition patterns among MPs. To enhance the efficiency of the analysis and capture the essence of MPs’ voting behaviors, the dataset has been condensed to the first and last three months of each legislative period. This focused approach efficiently distills the core dynamics while mitigating complexity. Concentrating on the initial and concluding phases, characterized by significant policy debates and legislative decisions, ensures a representative outcome in the analysis. This focused examination allows the identification of nuanced shifts and alignments in voting patterns, contributing to a comprehensive understanding of the broader legislative periods. The findings underscore the nuanced interplay between political affiliations and policy alignment, providing valuable insights into the fluid nature of political alliances within the German Bundestag. Notably, the analysis illuminates a compelling example: members of the Free Democratic Party (FDP) exhibited heightened voting similarity with the Christian Democratic Union (CDU) when both parties are part of the same government coalition. This observation serves to reinforce the central hypothesis, indicating that shifts in government coalition indeed have a substantial impact on the cooperation and divergence patterns among Members of Parliament (MPs). The comprehensive cosine similarity analysis applied to the voting patterns of Bundestag MPs over the specified historical periods supports the contention that political alliances intricately shape their collaborative dynamics. By delving into specific Cabinets led by key figures such as Willy Brandt, Helmut Kohl and Angela Merkel, this paper not only highlights the broad evolution of political affiliations but also sheds light on the temporal dynamics within each legislative period. In conclusion, this paper offers a valuable exploration of the interplay between political alliances and voting patterns in the German Bundestag, providing insights that deepen our comprehension of the fluid nature of political dynamics. The observed patterns not only validate the initial hypothesis but also present a compelling narrative of how shifts in government coalitions shape the collaborative landscape among MPs over different legislative periods in German political history. November 18, 2023 1 Introduction The German Bundestag is the biggest stage for politicians to convene and discuss significant national matters, making it the foundation of the nation’s democratic governance. The creation and breakup of political coalitions within this parliamentary system has a substantial influence on legislative procedures, policy results and the larger sociopolitical environment. Thus, a sophisticated understanding of how these coalitions work and change is crucial for academics and decision-makers alike, offering insights into cooperating and opposing dynamics that influence the political trajectory of the country. Political alliances have a major influence on policy decisions, legislative landscapes and the complex structure of parliamentary systems. A thorough comprehension of these alliances is essential for interpreting the multifaceted nature of the political forces within the framework of the German Bundestag. In order to fully understand the significance of understanding political relationships inside the German Bundestag and analyzing their effects over key historical eras, this paper will undertake an extensive probe. Examining how MPs alter their voting behavior in relation to their participation in the government, alongside a comparative assessment of dissimilarity across distinct time periods, can yield a comprehensive insight into the ideological proximity among political parties. The analysis also aims to discern which parties exhibit a higher degree of compromise and opportunism, contrasting those that demonstrate a steadfast commitment and unwavering adherence to their beliefs. 1.1 Research Question and Significance In light of this, the paper aims to answer the following fundamental question: What is the impact from shifts in government coalitions on the cooperative and non-cooperative behaviors of German Bundestag MPs? This investigation is extremely significant as it not only explores the historical development of political coalitions but also illuminates the temporal dynamics within particular legislative eras. While addressing this question, MPs whose ideologies diverge from their party line have emerged and intriguingly, the cosine similarity approach as a byproduct, serves in identifying individuals associated with more extreme fringe group ideologies. This revelation is a consequential outcome of the analysis based solely on the similarity of voting behavior. 1.2 Key Periods for Analysis The focus is on significant junctures in German political history, symbolized by the cabinets of Willy Brandt, Helmut Kohl and Angela Merkel, in order to decipher these complexities. These time frames represent pivotal moments in the political landscape of the nation, characterized by certain coalition forms and policy orientations. Cabinet I under Willy Brandt marks a break with the two-decade-long tradition of conservative leadership in the office of the chancellor. Several ministries underwent major reform under the social-liberal cabinet. Complete dissolution occurred for the Federal Treasury Ministry, the Federal Council Affairs Ministry, and the Ministry for Refugees, Displaced Persons, and War Victims. In addition, the standalone Health Ministry since 1961 was also dissolved and integrated into the Ministry for Family, Youth, and Health. The Ministry for All-German Affairs was renamed the Ministry for Inter-German Relations as part of the Ostpolitik and remained so until reunification. The Ministry of Education and Science replaced the Ministry for Scientific Research. Cabinet II Kohl has been marked by the Flick Affair and a decrease in government participation in the industry. The government underwent substantial adjustments as a result of the Flick Affair. Martin Bangemann succeeded Otto Graf Lambsdorff as Federal Minister of Economics on June 27, 1984, following his resignation. On November 5, 1984, Philipp Jenninger, the Parliamentary State Secretary at the Federal Chancellery, succeeded Rainer Barzel as President of the Bundestag. During the investigation of the scandal, it became evident that the CDU, CSU, SPD, and FDP had violated the provisions of the Party Law. However, there were differing perspectives in the societal discourse on these events. Leading representatives of the political parties demonstrated little awareness of wrongdoing, contending that party financing was a challenging matter and at most, a minor offense. Between 1981 and 1984, there were several attempts to legislate amnesty, but these efforts faced resistance from the press and the grassroots of individual parties. Ultimately, however, the Party Law’s donation regulations as well as MPs’ secondary income reporting obligations were tightened. The nonprofit statute was also modified to guarantee the distinction between different categories of tax-exempt organizations. It was expressly unlawful for nonprofit organizations to endorse political parties, and it was also forbidden for political parties to take funds from nonprofit organizations. Concurrently, the advancement of democracy was presented as a novel altruistic objective, excepting instances in local governments and 2.\"",
   "id": "54e155fdb98385e7",
   "outputs": [],
   "execution_count": 32
  },
  {
   "metadata": {
    "ExecuteTime": {
     "end_time": "2025-01-26T14:48:50.871329Z",
     "start_time": "2025-01-26T14:48:50.829904Z"
    }
   },
   "cell_type": "code",
   "source": [
    "from deep_translator import GoogleTranslator\n",
    "\n",
    "translated_text = translate_text(input_text, \"de\")\n",
    "translated_text\n"
   ],
   "id": "a2ce14bd33fa5707",
   "outputs": [
    {
     "ename": "NotValidLength",
     "evalue": "Mapping Political Alliances: Cosine Similarity Analysis of Bundestag MPs’ Voting Trends Furkan Yel Faculty of Economy and Health Baden Wuerttemberg Cooperative State University Stuttgart, 70178 wi22202@lehre.dhbw-stuttgart.de November 18, 2023 Abstract Employing a comprehensive cosine similarity analysis, this paper examines the voting patterns of Bundestag Members of Parliament (MPs) across four legislature periods in German political history. The focus is on Cabinet I under Willy Brandt (SPD & FDP), Cabinet II under Helmut Kohl (CDU & FDP), Cabinet I and IV under Angela Merkel (CDU & SPD), with the primary aim of unraveling the intricate dynamics of political alliances. The methodology involves calculating the cosine similarity for each pair of MPs based on their common votes and the overarching hypothesis posits that shifts in government coalition significantly shape cooperation and opposition patterns among MPs. To enhance the efficiency of the analysis and capture the essence of MPs’ voting behaviors, the dataset has been condensed to the first and last three months of each legislative period. This focused approach efficiently distills the core dynamics while mitigating complexity. Concentrating on the initial and concluding phases, characterized by significant policy debates and legislative decisions, ensures a representative outcome in the analysis. This focused examination allows the identification of nuanced shifts and alignments in voting patterns, contributing to a comprehensive understanding of the broader legislative periods. The findings underscore the nuanced interplay between political affiliations and policy alignment, providing valuable insights into the fluid nature of political alliances within the German Bundestag. Notably, the analysis illuminates a compelling example: members of the Free Democratic Party (FDP) exhibited heightened voting similarity with the Christian Democratic Union (CDU) when both parties are part of the same government coalition. This observation serves to reinforce the central hypothesis, indicating that shifts in government coalition indeed have a substantial impact on the cooperation and divergence patterns among Members of Parliament (MPs). The comprehensive cosine similarity analysis applied to the voting patterns of Bundestag MPs over the specified historical periods supports the contention that political alliances intricately shape their collaborative dynamics. By delving into specific Cabinets led by key figures such as Willy Brandt, Helmut Kohl and Angela Merkel, this paper not only highlights the broad evolution of political affiliations but also sheds light on the temporal dynamics within each legislative period. In conclusion, this paper offers a valuable exploration of the interplay between political alliances and voting patterns in the German Bundestag, providing insights that deepen our comprehension of the fluid nature of political dynamics. The observed patterns not only validate the initial hypothesis but also present a compelling narrative of how shifts in government coalitions shape the collaborative landscape among MPs over different legislative periods in German political history. November 18, 2023 1 Introduction The German Bundestag is the biggest stage for politicians to convene and discuss significant national matters, making it the foundation of the nation’s democratic governance. The creation and breakup of political coalitions within this parliamentary system has a substantial influence on legislative procedures, policy results and the larger sociopolitical environment. Thus, a sophisticated understanding of how these coalitions work and change is crucial for academics and decision-makers alike, offering insights into cooperating and opposing dynamics that influence the political trajectory of the country. Political alliances have a major influence on policy decisions, legislative landscapes and the complex structure of parliamentary systems. A thorough comprehension of these alliances is essential for interpreting the multifaceted nature of the political forces within the framework of the German Bundestag. In order to fully understand the significance of understanding political relationships inside the German Bundestag and analyzing their effects over key historical eras, this paper will undertake an extensive probe. Examining how MPs alter their voting behavior in relation to their participation in the government, alongside a comparative assessment of dissimilarity across distinct time periods, can yield a comprehensive insight into the ideological proximity among political parties. The analysis also aims to discern which parties exhibit a higher degree of compromise and opportunism, contrasting those that demonstrate a steadfast commitment and unwavering adherence to their beliefs. 1.1 Research Question and Significance In light of this, the paper aims to answer the following fundamental question: What is the impact from shifts in government coalitions on the cooperative and non-cooperative behaviors of German Bundestag MPs? This investigation is extremely significant as it not only explores the historical development of political coalitions but also illuminates the temporal dynamics within particular legislative eras. While addressing this question, MPs whose ideologies diverge from their party line have emerged and intriguingly, the cosine similarity approach as a byproduct, serves in identifying individuals associated with more extreme fringe group ideologies. This revelation is a consequential outcome of the analysis based solely on the similarity of voting behavior. 1.2 Key Periods for Analysis The focus is on significant junctures in German political history, symbolized by the cabinets of Willy Brandt, Helmut Kohl and Angela Merkel, in order to decipher these complexities. These time frames represent pivotal moments in the political landscape of the nation, characterized by certain coalition forms and policy orientations. Cabinet I under Willy Brandt marks a break with the two-decade-long tradition of conservative leadership in the office of the chancellor. Several ministries underwent major reform under the social-liberal cabinet. Complete dissolution occurred for the Federal Treasury Ministry, the Federal Council Affairs Ministry, and the Ministry for Refugees, Displaced Persons, and War Victims. In addition, the standalone Health Ministry since 1961 was also dissolved and integrated into the Ministry for Family, Youth, and Health. The Ministry for All-German Affairs was renamed the Ministry for Inter-German Relations as part of the Ostpolitik and remained so until reunification. The Ministry of Education and Science replaced the Ministry for Scientific Research. Cabinet II Kohl has been marked by the Flick Affair and a decrease in government participation in the industry. The government underwent substantial adjustments as a result of the Flick Affair. Martin Bangemann succeeded Otto Graf Lambsdorff as Federal Minister of Economics on June 27, 1984, following his resignation. On November 5, 1984, Philipp Jenninger, the Parliamentary State Secretary at the Federal Chancellery, succeeded Rainer Barzel as President of the Bundestag. During the investigation of the scandal, it became evident that the CDU, CSU, SPD, and FDP had violated the provisions of the Party Law. However, there were differing perspectives in the societal discourse on these events. Leading representatives of the political parties demonstrated little awareness of wrongdoing, contending that party financing was a challenging matter and at most, a minor offense. Between 1981 and 1984, there were several attempts to legislate amnesty, but these efforts faced resistance from the press and the grassroots of individual parties. Ultimately, however, the Party Law’s donation regulations as well as MPs’ secondary income reporting obligations were tightened. The nonprofit statute was also modified to guarantee the distinction between different categories of tax-exempt organizations. It was expressly unlawful for nonprofit organizations to endorse political parties, and it was also forbidden for political parties to take funds from nonprofit organizations. Concurrently, the advancement of democracy was presented as a novel altruistic objective, excepting instances in local governments and 2. --> Text length need to be between 0 and 5000 characters",
     "output_type": "error",
     "traceback": [
      "\u001B[1;31m---------------------------------------------------------------------------\u001B[0m",
      "\u001B[1;31mNotValidLength\u001B[0m                            Traceback (most recent call last)",
      "Cell \u001B[1;32mIn[33], line 3\u001B[0m\n\u001B[0;32m      1\u001B[0m \u001B[38;5;28;01mfrom\u001B[39;00m \u001B[38;5;21;01mdeep_translator\u001B[39;00m \u001B[38;5;28;01mimport\u001B[39;00m GoogleTranslator\n\u001B[1;32m----> 3\u001B[0m translated_text \u001B[38;5;241m=\u001B[39m \u001B[43mtranslate_text\u001B[49m\u001B[43m(\u001B[49m\u001B[43minput_text\u001B[49m\u001B[43m,\u001B[49m\u001B[43m \u001B[49m\u001B[38;5;124;43m\"\u001B[39;49m\u001B[38;5;124;43mde\u001B[39;49m\u001B[38;5;124;43m\"\u001B[39;49m\u001B[43m)\u001B[49m\n\u001B[0;32m      4\u001B[0m translated_text\n",
      "Cell \u001B[1;32mIn[31], line 3\u001B[0m, in \u001B[0;36mtranslate_text\u001B[1;34m(text, target_lang)\u001B[0m\n\u001B[0;32m      1\u001B[0m \u001B[38;5;28;01mdef\u001B[39;00m \u001B[38;5;21mtranslate_text\u001B[39m(text, target_lang):\n\u001B[0;32m      2\u001B[0m     translator \u001B[38;5;241m=\u001B[39m GoogleTranslator(source\u001B[38;5;241m=\u001B[39m\u001B[38;5;124m'\u001B[39m\u001B[38;5;124mauto\u001B[39m\u001B[38;5;124m'\u001B[39m, target\u001B[38;5;241m=\u001B[39mtarget_lang\u001B[38;5;241m.\u001B[39mlower())\n\u001B[1;32m----> 3\u001B[0m     translated_text \u001B[38;5;241m=\u001B[39m \u001B[43mtranslator\u001B[49m\u001B[38;5;241;43m.\u001B[39;49m\u001B[43mtranslate\u001B[49m\u001B[43m(\u001B[49m\u001B[43mtext\u001B[49m\u001B[43m)\u001B[49m\n\u001B[0;32m      4\u001B[0m     \u001B[38;5;28;01mreturn\u001B[39;00m translated_text\n",
      "File \u001B[1;32m~\\PycharmProjects\\Data_Aggregation_Transfer_Learning\\.venv\\Lib\\site-packages\\deep_translator\\google.py:57\u001B[0m, in \u001B[0;36mGoogleTranslator.translate\u001B[1;34m(self, text, **kwargs)\u001B[0m\n\u001B[0;32m     51\u001B[0m \u001B[38;5;28;01mdef\u001B[39;00m \u001B[38;5;21mtranslate\u001B[39m(\u001B[38;5;28mself\u001B[39m, text: \u001B[38;5;28mstr\u001B[39m, \u001B[38;5;241m*\u001B[39m\u001B[38;5;241m*\u001B[39mkwargs) \u001B[38;5;241m-\u001B[39m\u001B[38;5;241m>\u001B[39m \u001B[38;5;28mstr\u001B[39m:\n\u001B[0;32m     52\u001B[0m \u001B[38;5;250m    \u001B[39m\u001B[38;5;124;03m\"\"\"\u001B[39;00m\n\u001B[0;32m     53\u001B[0m \u001B[38;5;124;03m    function to translate a text\u001B[39;00m\n\u001B[0;32m     54\u001B[0m \u001B[38;5;124;03m    @param text: desired text to translate\u001B[39;00m\n\u001B[0;32m     55\u001B[0m \u001B[38;5;124;03m    @return: str: translated text\u001B[39;00m\n\u001B[0;32m     56\u001B[0m \u001B[38;5;124;03m    \"\"\"\u001B[39;00m\n\u001B[1;32m---> 57\u001B[0m     \u001B[38;5;28;01mif\u001B[39;00m \u001B[43mis_input_valid\u001B[49m\u001B[43m(\u001B[49m\u001B[43mtext\u001B[49m\u001B[43m,\u001B[49m\u001B[43m \u001B[49m\u001B[43mmax_chars\u001B[49m\u001B[38;5;241;43m=\u001B[39;49m\u001B[38;5;241;43m5000\u001B[39;49m\u001B[43m)\u001B[49m:\n\u001B[0;32m     58\u001B[0m         text \u001B[38;5;241m=\u001B[39m text\u001B[38;5;241m.\u001B[39mstrip()\n\u001B[0;32m     59\u001B[0m         \u001B[38;5;28;01mif\u001B[39;00m \u001B[38;5;28mself\u001B[39m\u001B[38;5;241m.\u001B[39m_same_source_target() \u001B[38;5;129;01mor\u001B[39;00m is_empty(text):\n",
      "File \u001B[1;32m~\\PycharmProjects\\Data_Aggregation_Transfer_Learning\\.venv\\Lib\\site-packages\\deep_translator\\validate.py:41\u001B[0m, in \u001B[0;36mis_input_valid\u001B[1;34m(text, min_chars, max_chars)\u001B[0m\n\u001B[0;32m     39\u001B[0m     \u001B[38;5;28;01mraise\u001B[39;00m NotValidPayload(text)\n\u001B[0;32m     40\u001B[0m \u001B[38;5;28;01mif\u001B[39;00m max_chars \u001B[38;5;129;01mand\u001B[39;00m (\u001B[38;5;129;01mnot\u001B[39;00m min_chars \u001B[38;5;241m<\u001B[39m\u001B[38;5;241m=\u001B[39m \u001B[38;5;28mlen\u001B[39m(text) \u001B[38;5;241m<\u001B[39m max_chars):\n\u001B[1;32m---> 41\u001B[0m     \u001B[38;5;28;01mraise\u001B[39;00m NotValidLength(text, min_chars, max_chars)\n\u001B[0;32m     43\u001B[0m \u001B[38;5;28;01mreturn\u001B[39;00m \u001B[38;5;28;01mTrue\u001B[39;00m\n",
      "\u001B[1;31mNotValidLength\u001B[0m: Mapping Political Alliances: Cosine Similarity Analysis of Bundestag MPs’ Voting Trends Furkan Yel Faculty of Economy and Health Baden Wuerttemberg Cooperative State University Stuttgart, 70178 wi22202@lehre.dhbw-stuttgart.de November 18, 2023 Abstract Employing a comprehensive cosine similarity analysis, this paper examines the voting patterns of Bundestag Members of Parliament (MPs) across four legislature periods in German political history. The focus is on Cabinet I under Willy Brandt (SPD & FDP), Cabinet II under Helmut Kohl (CDU & FDP), Cabinet I and IV under Angela Merkel (CDU & SPD), with the primary aim of unraveling the intricate dynamics of political alliances. The methodology involves calculating the cosine similarity for each pair of MPs based on their common votes and the overarching hypothesis posits that shifts in government coalition significantly shape cooperation and opposition patterns among MPs. To enhance the efficiency of the analysis and capture the essence of MPs’ voting behaviors, the dataset has been condensed to the first and last three months of each legislative period. This focused approach efficiently distills the core dynamics while mitigating complexity. Concentrating on the initial and concluding phases, characterized by significant policy debates and legislative decisions, ensures a representative outcome in the analysis. This focused examination allows the identification of nuanced shifts and alignments in voting patterns, contributing to a comprehensive understanding of the broader legislative periods. The findings underscore the nuanced interplay between political affiliations and policy alignment, providing valuable insights into the fluid nature of political alliances within the German Bundestag. Notably, the analysis illuminates a compelling example: members of the Free Democratic Party (FDP) exhibited heightened voting similarity with the Christian Democratic Union (CDU) when both parties are part of the same government coalition. This observation serves to reinforce the central hypothesis, indicating that shifts in government coalition indeed have a substantial impact on the cooperation and divergence patterns among Members of Parliament (MPs). The comprehensive cosine similarity analysis applied to the voting patterns of Bundestag MPs over the specified historical periods supports the contention that political alliances intricately shape their collaborative dynamics. By delving into specific Cabinets led by key figures such as Willy Brandt, Helmut Kohl and Angela Merkel, this paper not only highlights the broad evolution of political affiliations but also sheds light on the temporal dynamics within each legislative period. In conclusion, this paper offers a valuable exploration of the interplay between political alliances and voting patterns in the German Bundestag, providing insights that deepen our comprehension of the fluid nature of political dynamics. The observed patterns not only validate the initial hypothesis but also present a compelling narrative of how shifts in government coalitions shape the collaborative landscape among MPs over different legislative periods in German political history. November 18, 2023 1 Introduction The German Bundestag is the biggest stage for politicians to convene and discuss significant national matters, making it the foundation of the nation’s democratic governance. The creation and breakup of political coalitions within this parliamentary system has a substantial influence on legislative procedures, policy results and the larger sociopolitical environment. Thus, a sophisticated understanding of how these coalitions work and change is crucial for academics and decision-makers alike, offering insights into cooperating and opposing dynamics that influence the political trajectory of the country. Political alliances have a major influence on policy decisions, legislative landscapes and the complex structure of parliamentary systems. A thorough comprehension of these alliances is essential for interpreting the multifaceted nature of the political forces within the framework of the German Bundestag. In order to fully understand the significance of understanding political relationships inside the German Bundestag and analyzing their effects over key historical eras, this paper will undertake an extensive probe. Examining how MPs alter their voting behavior in relation to their participation in the government, alongside a comparative assessment of dissimilarity across distinct time periods, can yield a comprehensive insight into the ideological proximity among political parties. The analysis also aims to discern which parties exhibit a higher degree of compromise and opportunism, contrasting those that demonstrate a steadfast commitment and unwavering adherence to their beliefs. 1.1 Research Question and Significance In light of this, the paper aims to answer the following fundamental question: What is the impact from shifts in government coalitions on the cooperative and non-cooperative behaviors of German Bundestag MPs? This investigation is extremely significant as it not only explores the historical development of political coalitions but also illuminates the temporal dynamics within particular legislative eras. While addressing this question, MPs whose ideologies diverge from their party line have emerged and intriguingly, the cosine similarity approach as a byproduct, serves in identifying individuals associated with more extreme fringe group ideologies. This revelation is a consequential outcome of the analysis based solely on the similarity of voting behavior. 1.2 Key Periods for Analysis The focus is on significant junctures in German political history, symbolized by the cabinets of Willy Brandt, Helmut Kohl and Angela Merkel, in order to decipher these complexities. These time frames represent pivotal moments in the political landscape of the nation, characterized by certain coalition forms and policy orientations. Cabinet I under Willy Brandt marks a break with the two-decade-long tradition of conservative leadership in the office of the chancellor. Several ministries underwent major reform under the social-liberal cabinet. Complete dissolution occurred for the Federal Treasury Ministry, the Federal Council Affairs Ministry, and the Ministry for Refugees, Displaced Persons, and War Victims. In addition, the standalone Health Ministry since 1961 was also dissolved and integrated into the Ministry for Family, Youth, and Health. The Ministry for All-German Affairs was renamed the Ministry for Inter-German Relations as part of the Ostpolitik and remained so until reunification. The Ministry of Education and Science replaced the Ministry for Scientific Research. Cabinet II Kohl has been marked by the Flick Affair and a decrease in government participation in the industry. The government underwent substantial adjustments as a result of the Flick Affair. Martin Bangemann succeeded Otto Graf Lambsdorff as Federal Minister of Economics on June 27, 1984, following his resignation. On November 5, 1984, Philipp Jenninger, the Parliamentary State Secretary at the Federal Chancellery, succeeded Rainer Barzel as President of the Bundestag. During the investigation of the scandal, it became evident that the CDU, CSU, SPD, and FDP had violated the provisions of the Party Law. However, there were differing perspectives in the societal discourse on these events. Leading representatives of the political parties demonstrated little awareness of wrongdoing, contending that party financing was a challenging matter and at most, a minor offense. Between 1981 and 1984, there were several attempts to legislate amnesty, but these efforts faced resistance from the press and the grassroots of individual parties. Ultimately, however, the Party Law’s donation regulations as well as MPs’ secondary income reporting obligations were tightened. The nonprofit statute was also modified to guarantee the distinction between different categories of tax-exempt organizations. It was expressly unlawful for nonprofit organizations to endorse political parties, and it was also forbidden for political parties to take funds from nonprofit organizations. Concurrently, the advancement of democracy was presented as a novel altruistic objective, excepting instances in local governments and 2. --> Text length need to be between 0 and 5000 characters"
     ]
    }
   ],
   "execution_count": 33
  },
  {
   "metadata": {
    "ExecuteTime": {
     "end_time": "2025-01-26T14:52:49.984501Z",
     "start_time": "2025-01-26T14:52:49.979418Z"
    }
   },
   "cell_type": "code",
   "source": [
    "def split_text_into_chunks(text, max_chunk_size=4900):\n",
    "    \"\"\"\n",
    "    Splits the input text into chunks of up to max_chunk_size characters\n",
    "    without splitting words. Optimized for runtime efficiency.\n",
    "    \n",
    "    :param text: The input text to be split\n",
    "    :param max_chunk_size: Maximum size of each chunk (default is 4900 characters)\n",
    "    :return: A list of text chunks\n",
    "    \"\"\"\n",
    "    chunks = []\n",
    "    text_length = len(text)\n",
    "    start = 0\n",
    "\n",
    "    while start < text_length:\n",
    "        # Determine the end index of the chunk\n",
    "        end = min(start + max_chunk_size, text_length)\n",
    "\n",
    "        # If the end is in the middle of a word, backtrack to the last space\n",
    "        if end < text_length and text[end] != \" \":\n",
    "            space_index = text.rfind(\" \", start, end)\n",
    "            if space_index != -1:  # Found a space\n",
    "                end = space_index\n",
    "            # If no space is found, the chunk will be cut at max_chunk_size\n",
    "\n",
    "        # Append the chunk and move the start index\n",
    "        chunks.append(text[start:end])\n",
    "        start = end + 1  # Move to the next character after the space\n",
    "\n",
    "    return chunks\n"
   ],
   "id": "31eed8d642c650b7",
   "outputs": [],
   "execution_count": 37
  },
  {
   "metadata": {
    "ExecuteTime": {
     "end_time": "2025-01-26T14:48:54.391105Z",
     "start_time": "2025-01-26T14:48:53.886352Z"
    }
   },
   "cell_type": "code",
   "source": "chunks = list(chunk_text_by_tokens(input_text, max_tokens=4999)) # Adjust max_tokens if necessary",
   "id": "6c7241276e2da7ad",
   "outputs": [],
   "execution_count": 34
  },
  {
   "metadata": {
    "ExecuteTime": {
     "end_time": "2025-01-26T14:52:51.867107Z",
     "start_time": "2025-01-26T14:52:51.863182Z"
    }
   },
   "cell_type": "code",
   "source": "chunks2 = list (split_text_into_chunks(input_text, max_chunk_size=4999))",
   "id": "e0dc8c6591d4d8b8",
   "outputs": [],
   "execution_count": 38
  },
  {
   "metadata": {
    "ExecuteTime": {
     "end_time": "2025-01-26T14:52:56.098920Z",
     "start_time": "2025-01-26T14:52:56.094403Z"
    }
   },
   "cell_type": "code",
   "source": "len(chunks2)",
   "id": "7844c81cd3278b8b",
   "outputs": [
    {
     "data": {
      "text/plain": [
       "2"
      ]
     },
     "execution_count": 39,
     "metadata": {},
     "output_type": "execute_result"
    }
   ],
   "execution_count": 39
  },
  {
   "metadata": {
    "ExecuteTime": {
     "end_time": "2025-01-26T14:53:08.289201Z",
     "start_time": "2025-01-26T14:53:04.865873Z"
    }
   },
   "cell_type": "code",
   "source": [
    "\n",
    "results = []\n",
    "for i, chunk in enumerate(chunks2):\n",
    "    print(f\"Processing chunk {i + 1}/{len(chunks2)}...\")\n",
    "    result = translate_text(chunk, \"de\")\n",
    "    results.append(result)"
   ],
   "id": "edf1cfc5ff232c44",
   "outputs": [
    {
     "name": "stdout",
     "output_type": "stream",
     "text": [
      "Processing chunk 1/2...\n",
      "Processing chunk 2/2...\n"
     ]
    }
   ],
   "execution_count": 40
  },
  {
   "metadata": {
    "ExecuteTime": {
     "end_time": "2025-01-26T14:53:09.634235Z",
     "start_time": "2025-01-26T14:53:09.628729Z"
    }
   },
   "cell_type": "code",
   "source": "results",
   "id": "344e74bcd2268c9b",
   "outputs": [
    {
     "data": {
      "text/plain": [
       "['Kartierung politischer Allianzen: Kosinus-Ähnlichkeitsanalyse des Abstimmungsverhaltens von Bundestagsabgeordneten Furkan Yel Fakultät für Wirtschaft und Gesundheit Duale Hochschule Baden-Württemberg Stuttgart, 70178 wi22202@lehre.dhbw-stuttgart.de 18. November 2023 Zusammenfassung Mithilfe einer umfassenden Kosinus-Ähnlichkeitsanalyse untersucht dieses Papier das Abstimmungsverhalten von Bundestagsabgeordneten in vier Legislaturperioden der deutschen Politikgeschichte. Der Fokus liegt dabei auf Kabinett I unter Willy Brandt (SPD & FDP), Kabinett II unter Helmut Kohl (CDU & FDP) sowie Kabinett I und IV unter Angela Merkel (CDU & SPD). Dabei geht es vor allem darum, die komplexen Dynamiken politischer Allianzen zu entschlüsseln. Die Methodik beinhaltet die Berechnung der Kosinus-Ähnlichkeit für jedes Abgeordnetenpaar auf Grundlage ihrer gemeinsamen Stimmen. Die übergeordnete Hypothese geht davon aus, dass Verschiebungen in der Regierungskoalition die Kooperations- und Oppositionsmuster unter den Abgeordneten erheblich prägen. Um die Effizienz der Analyse zu verbessern und das Wesentliche des Abstimmungsverhaltens der Abgeordneten zu erfassen, wurde der Datensatz auf die ersten und letzten drei Monate jeder Legislaturperiode komprimiert. Dieser fokussierte Ansatz destilliert effizient die Kerndynamik und reduziert gleichzeitig die Komplexität. Die Konzentration auf die Anfangs- und Schlussphase, die durch bedeutende politische Debatten und gesetzgeberische Entscheidungen gekennzeichnet ist, gewährleistet ein repräsentatives Ergebnis in der Analyse. Diese fokussierte Untersuchung ermöglicht die Identifizierung nuancierter Verschiebungen und Ausrichtungen im Abstimmungsverhalten und trägt zu einem umfassenden Verständnis der breiteren Legislaturperioden bei. Die Ergebnisse unterstreichen das nuancierte Zusammenspiel zwischen politischer Zugehörigkeit und politischer Ausrichtung und liefern wertvolle Einblicke in die fließende Natur politischer Allianzen im Deutschen Bundestag. Insbesondere beleuchtet die Analyse ein überzeugendes Beispiel: Mitglieder der Freien Demokratischen Partei (FDP) zeigten eine größere Ähnlichkeit im Abstimmungsverhalten mit der Christlich Demokratischen Union (CDU), wenn beide Parteien Teil derselben Regierungskoalition sind. Diese Beobachtung dient der Untermauerung der zentralen Hypothese und weist darauf hin, dass Verschiebungen in der Regierungskoalition tatsächlich einen erheblichen Einfluss auf die Kooperations- und Divergenzmuster unter den Abgeordneten haben. Die umfassende Kosinus-Ähnlichkeitsanalyse, die auf das Abstimmungsverhalten der Bundestagsabgeordneten in den angegebenen historischen Zeiträumen angewendet wurde, stützt die Behauptung, dass politische Allianzen ihre Zusammenarbeitsdynamik auf komplexe Weise prägen. Durch die eingehende Untersuchung bestimmter Kabinette unter der Leitung von Schlüsselfiguren wie Willy Brandt, Helmut Kohl und Angela Merkel beleuchtet dieser Aufsatz nicht nur die breite Entwicklung der politischen Zugehörigkeiten, sondern wirft auch Licht auf die zeitliche Dynamik innerhalb jeder Legislaturperiode. Zusammenfassend bietet dieser Aufsatz eine wertvolle Untersuchung des Zusammenspiels zwischen politischen Allianzen und Abstimmungsverhalten im Deutschen Bundestag und liefert Erkenntnisse, die unser Verständnis der fließenden Natur politischer Dynamiken vertiefen. Die beobachteten Muster bestätigen nicht nur die anfängliche Hypothese, sondern präsentieren auch eine überzeugende Darstellung, wie Verschiebungen in Regierungskoalitionen die Zusammenarbeitslandschaft unter den Abgeordneten in verschiedenen Legislaturperioden der deutschen Politikgeschichte prägen. 18. November 2023 1 Einleitung Der Deutsche Bundestag ist die größte Bühne für Politiker, um zusammenzukommen und wichtige nationale Angelegenheiten zu diskutieren, und ist damit die Grundlage der demokratischen Regierungsführung des Landes. Die Bildung und Auflösung politischer Koalitionen innerhalb dieses parlamentarischen Systems hat einen erheblichen Einfluss auf Gesetzgebungsverfahren, politische Ergebnisse und das größere soziopolitische Umfeld. Daher ist ein differenziertes Verständnis der Funktionsweise und des Wandels dieser Koalitionen für Wissenschaftler und Entscheidungsträger gleichermaßen von entscheidender Bedeutung, da es Einblicke in kooperative und gegensätzliche Dynamiken bietet, die die politische Entwicklung des Landes beeinflussen. Politische Allianzen haben einen großen Einfluss auf politische Entscheidungen, die Gesetzgebungslandschaft und die komplexe Struktur parlamentarischer Systeme. Ein gründliches Verständnis dieser Allianzen ist für die Interpretation der Vielschichtigkeit der politischen Kräfte im Rahmen des Deutschen Bundestages unerlässlich. Um die Bedeutung des Verständnisses der politischen Beziehungen innerhalb des Deutschen Bundestages und der Analyse ihrer Auswirkungen über wichtige historische Epochen hinweg vollständig zu verstehen, wird dieser Aufsatz eine umfassende Untersuchung durchführen. Die Untersuchung, wie Abgeordnete ihr Abstimmungsverhalten im Hinblick auf ihre Beteiligung an der Regierung ändern, zusammen mit einer vergleichenden Bewertung der Unterschiede über verschiedene Zeiträume hinweg, kann einen umfassenden Einblick in die ideologische Nähe zwischen politischen Parteien liefern. Die Analyse zielt auch darauf ab, zu erkennen, welche Parteien ein höheres Maß an Kompromissbereitschaft und Opportunismus aufweisen, im Gegensatz zu jenen, die ein unerschütterliches Engagement und unerschütterliches Festhalten an ihren Überzeugungen zeigen. 1.1 Forschungsfrage und Bedeutung Vor diesem Hintergrund zielt das Papier darauf ab, die folgende grundlegende Frage zu beantworten: Welche Auswirkungen haben Veränderungen in',\n",
       " 'Regierungskoalitionen auf das kooperative und nicht kooperative Verhalten von Abgeordneten des deutschen Bundestages? Diese Untersuchung ist äußerst bedeutsam, da sie nicht nur die historische Entwicklung politischer Koalitionen erforscht, sondern auch die zeitlichen Dynamiken innerhalb bestimmter Legislaturperioden beleuchtet. Bei der Behandlung dieser Frage sind Abgeordnete aufgetaucht, deren Ideologien von ihrer Parteilinie abweichen, und interessanterweise dient der Kosinus-Ähnlichkeitsansatz als Nebenprodukt dazu, Personen zu identifizieren, die mit extremeren Randgruppenideologien in Verbindung stehen. Diese Erkenntnis ist ein Folgeergebnis der Analyse, die ausschließlich auf der Ähnlichkeit des Wahlverhaltens beruht. 1.2 Wichtige Analysezeiträume Um diese Komplexitäten zu entschlüsseln, liegt der Fokus auf bedeutenden Wendepunkten der deutschen Politikgeschichte, symbolisiert durch die Kabinette Willy Brandt, Helmut Kohl und Angela Merkel. Diese Zeiträume stellen Wendepunkte in der politischen Landschaft der Nation dar, die durch bestimmte Koalitionsformen und politische Ausrichtungen gekennzeichnet sind. Kabinett I unter Willy Brandt markiert einen Bruch mit der zwei Jahrzehnte langen Tradition konservativer Führung im Amt des Kanzlers. Unter dem sozialliberalen Kabinett wurden mehrere Ministerien umfassend reformiert. Das Bundesfinanzministerium, das Bundesministerium für Bundesratsangelegenheiten und das Ministerium für Flüchtlinge, Vertriebene und Kriegsopfer wurden vollständig aufgelöst. Darüber hinaus wurde das seit 1961 eigenständige Gesundheitsministerium aufgelöst und in das Ministerium für Familie, Jugend und Gesundheit integriert. Das Ministerium für Gesamtdeutsche Angelegenheiten wurde im Zuge der Ostpolitik in Ministerium für Deutsch-Deutsche Beziehungen umbenannt und blieb dies bis zur Wiedervereinigung. Das Ministerium für Bildung und Wissenschaft ersetzte das Ministerium für Wissenschaftliche Forschung. Das Kabinett II Kohl war geprägt von der Flick-Affäre und einer Verringerung der staatlichen Beteiligung an der Industrie. Die Regierung erfuhr infolge der Flick-Affäre erhebliche Anpassungen. Martin Bangemann trat am 27. Juni 1984 die Nachfolge von Otto Graf Lambsdorff als Bundeswirtschaftsminister an, nachdem dieser zurückgetreten war. Am 5. November 1984 trat Philipp Jenninger, der Parlamentarische Staatssekretär im Bundeskanzleramt, die Nachfolge von Rainer Barzel als Bundestagspräsident an. Im Zuge der Aufklärung des Skandals wurde deutlich, dass CDU, CSU, SPD und FDP gegen die Bestimmungen des Parteiengesetzes verstoßen hatten. Im gesellschaftlichen Diskurs zu diesen Vorkommnissen gab es jedoch unterschiedliche Perspektiven. Führende Vertreter der politischen Parteien zeigten wenig Bewusstsein für Unrecht und argumentierten, Parteienfinanzierung sei eine schwierige Angelegenheit und allenfalls ein geringfügiges Vergehen. Zwischen 1981 und 1984 gab es mehrere Versuche, eine Amnestie gesetzlich zu verabschieden, doch diese Bemühungen stießen auf Widerstand seitens der Presse und der Basis einzelner Parteien. Letztlich wurden jedoch die Spendenbestimmungen des Parteiengesetzes sowie die Meldepflichten der Abgeordneten für Nebeneinkünfte verschärft. Das Gemeinnützigkeitsgesetz wurde ebenfalls geändert, um die Unterscheidung zwischen verschiedenen Kategorien steuerbefreiter Organisationen zu gewährleisten. Es war gemeinnützigen Organisationen ausdrücklich verboten, politische Parteien zu unterstützen, und es war politischen Parteien auch verboten, Gelder von gemeinnützigen Organisationen anzunehmen. Gleichzeitig wurde die Förderung der Demokratie als neuartiges altruistisches Ziel dargestellt, mit Ausnahme von Fällen in Kommunalverwaltungen und 2.']"
      ]
     },
     "execution_count": 41,
     "metadata": {},
     "output_type": "execute_result"
    }
   ],
   "execution_count": 41
  },
  {
   "metadata": {
    "ExecuteTime": {
     "end_time": "2025-01-24T23:17:01.099348Z",
     "start_time": "2025-01-24T23:17:01.093796Z"
    }
   },
   "cell_type": "code",
   "source": [
    "combined_summary = \" \".join(\n",
    "    item[\"summary_text\"]\n",
    "    for result in results  # Iterate over the outer list\n",
    "    for item in result  # Iterate over the inner lists\n",
    "    if \"summary_text\" in item  # Check if 'summary_text' exists\n",
    ")\n",
    "combined_summary"
   ],
   "id": "127dc3e186d60a0a",
   "outputs": [
    {
     "data": {
      "text/plain": [
       "'Durchführung einer umfassenden Kosinus-Ähnlichkeitsanalyse untersucht dieser Artikel die Abstimmungsverhalten von Bundestagsabgeordneten. Das Hauptziel besteht darin, die komplexen Dynamiken politischer Allianzen zu entschlüsseln. Artikel beleuchtet nicht nur die breite Entwicklung politischer Zugehörigkeiten, sondern ein Licht auf die zeitlichen Dynamiken innerhalb jeder Legislaturperiode. Er liefert Einsichten, die unser Verständnis der dynamischen Natur politischer Prozesse vertiefen.'"
      ]
     },
     "execution_count": 59,
     "metadata": {},
     "output_type": "execute_result"
    }
   ],
   "execution_count": 59
  },
  {
   "metadata": {
    "ExecuteTime": {
     "end_time": "2025-01-24T23:16:09.247761Z",
     "start_time": "2025-01-24T23:16:09.242691Z"
    }
   },
   "cell_type": "code",
   "source": "combined_summary",
   "id": "cf4ef94cd88b180a",
   "outputs": [
    {
     "data": {
      "text/plain": [
       "''"
      ]
     },
     "execution_count": 57,
     "metadata": {},
     "output_type": "execute_result"
    }
   ],
   "execution_count": 57
  },
  {
   "metadata": {
    "ExecuteTime": {
     "end_time": "2025-01-25T00:33:10.509073Z",
     "start_time": "2025-01-25T00:33:10.504475Z"
    }
   },
   "cell_type": "code",
   "source": [
    "import json\n",
    "\n",
    "json_object = '{\"key1\": \"value1\", \"key2\": \"value2\", \"key3\": \"value3\"}'\n",
    "parsed_object = json.loads(json_object)  \n",
    "\n",
    "second_key = list(parsed_object.keys())[1]\n",
    "second_value = parsed_object[second_key]\n",
    "print(second_value)"
   ],
   "id": "d47e71e7b8305e11",
   "outputs": [
    {
     "name": "stdout",
     "output_type": "stream",
     "text": [
      "value2\n"
     ]
    }
   ],
   "execution_count": 100
  }
 ],
 "metadata": {
  "kernelspec": {
   "display_name": "Python 3",
   "language": "python",
   "name": "python3"
  },
  "language_info": {
   "codemirror_mode": {
    "name": "ipython",
    "version": 2
   },
   "file_extension": ".py",
   "mimetype": "text/x-python",
   "name": "python",
   "nbconvert_exporter": "python",
   "pygments_lexer": "ipython2",
   "version": "2.7.6"
  }
 },
 "nbformat": 4,
 "nbformat_minor": 5
}
